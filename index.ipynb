{
 "cells": [
  {
   "cell_type": "markdown",
   "metadata": {},
   "source": [
    "# Properties of Dot Product - Lab"
   ]
  },
  {
   "cell_type": "markdown",
   "metadata": {},
   "source": [
    "## Introduction\n",
    "\n",
    "In this lab we shall look at some interesting properties of a Dot product type matrix multiplication. Understanding these properties will become useful as we move forward with machine learning advanced linear algebra. The lab will require you to calculate results to provide a proof for these properties.\n",
    "\n",
    "## Objectives\n",
    "You will be able to:\n",
    "* Understand and analytically explain Distributive, Commutative and Associative properties of dot product\n",
    "\n",
    "## Instructions\n",
    "\n",
    "* For each property, create suitably sized matrices with random data and prove the equations \n",
    "* Ensure that size/dimension assumptions are met while performing calculations (you'll see errors otherwise)\n",
    "* Calculate the LHS and RHS for all equations and show if they are equal or not"
   ]
  },
  {
   "cell_type": "markdown",
   "metadata": {},
   "source": [
    "## Distributive Property - Matrices multiplication is distributive\n",
    "### Prove that A.(B+C)=A.B+A.C"
   ]
  },
  {
   "cell_type": "code",
   "execution_count": 3,
   "metadata": {},
   "outputs": [
    {
     "name": "stdout",
     "output_type": "stream",
     "text": [
      "[[142 134]\n",
      " [ 47  69]\n",
      " [214 241]]\n",
      "[[142 134]\n",
      " [ 47  69]\n",
      " [214 241]]\n"
     ]
    }
   ],
   "source": [
    "# Your code here\n",
    "import numpy as np\n",
    "\n",
    "A = np.random.randint(10, size=(3, 3))\n",
    "B = np.random.randint(10, size=(3, 2))\n",
    "C = np.random.randint(10, size=(3, 2))\n",
    "\n",
    "LHS = A.dot((B+C))\n",
    "RHS = A.dot(B) + A.dot(C)\n",
    "\n",
    "print(LHS)\n",
    "print(RHS)"
   ]
  },
  {
   "cell_type": "markdown",
   "metadata": {},
   "source": [
    "## Associative Property - Matrices multiplication is associative\n",
    "### Prove that A.(B.C)=(A.B).C"
   ]
  },
  {
   "cell_type": "code",
   "execution_count": 6,
   "metadata": {},
   "outputs": [
    {
     "name": "stdout",
     "output_type": "stream",
     "text": [
      "[[ 547  160  286]\n",
      " [ 942  264  477]\n",
      " [1134  320  577]]\n",
      "[[ 547  160  286]\n",
      " [ 942  264  477]\n",
      " [1134  320  577]]\n"
     ]
    }
   ],
   "source": [
    "# Your code here \n",
    "\n",
    "A = np.random.randint(10, size=(3, 3))\n",
    "B = np.random.randint(10, size=(3, 3))\n",
    "C = np.random.randint(10, size=(3, 3))\n",
    "\n",
    "LHS = A.dot(B.dot(C))\n",
    "RHS = (A.dot(B)).dot(C)\n",
    "\n",
    "print(LHS)\n",
    "print(RHS)"
   ]
  },
  {
   "cell_type": "markdown",
   "metadata": {},
   "source": [
    "## Commutative Property - Matrix multiplication is NOT commutative\n",
    "### Prove that for matrices, A.B ≠ B.A"
   ]
  },
  {
   "cell_type": "code",
   "execution_count": 7,
   "metadata": {},
   "outputs": [
    {
     "name": "stdout",
     "output_type": "stream",
     "text": [
      "[[ 63  44 121]\n",
      " [ 63  32  85]\n",
      " [  7  21  44]]\n",
      "[[51 12 36]\n",
      " [56 12 76]\n",
      " [84 12 76]]\n"
     ]
    }
   ],
   "source": [
    "# Your code here \n",
    "A = np.random.randint(10, size=(3, 3))\n",
    "B = np.random.randint(10, size=(3, 3))\n",
    "\n",
    "LHS = A.dot(B)\n",
    "print(LHS)\n",
    "\n",
    "RHS = B.dot(A)\n",
    "print(RHS)"
   ]
  },
  {
   "cell_type": "markdown",
   "metadata": {},
   "source": [
    "## Commutative Property -  vector multiplication IS commutative\n",
    "### Prove that for vectors, x<sup>T</sup> . y = y<sup>T</sup> . x\n",
    "Note: superscipt<sup>T</sup> denotes the transpose we saw earlier"
   ]
  },
  {
   "cell_type": "code",
   "execution_count": 11,
   "metadata": {},
   "outputs": [
    {
     "name": "stdout",
     "output_type": "stream",
     "text": [
      "[0 4 0 0] 8\n",
      "[6 2 9 1] 8\n",
      "8\n",
      "8\n"
     ]
    }
   ],
   "source": [
    "# Your code here \n",
    "x = np.random.randint(10, size=(4))\n",
    "y = np.random.randint(10, size=(4))\n",
    "\n",
    "LHS = (x.T).dot(y)\n",
    "RHS = (y.T).dot(x)\n",
    "print(x, LHS)\n",
    "print(y,RHS)\n",
    "\n",
    "print(LHS)\n",
    "print(RHS)"
   ]
  },
  {
   "cell_type": "markdown",
   "metadata": {},
   "source": [
    "#### and finally \n",
    "## Simplification of the matrix product\n",
    "### Prove that  (A.B)<sup>T</sup> = B<sup>T</sup> . A<sup>T</sup>"
   ]
  },
  {
   "cell_type": "code",
   "execution_count": 14,
   "metadata": {},
   "outputs": [
    {
     "name": "stdout",
     "output_type": "stream",
     "text": [
      "[[4 5 9]\n",
      " [6 3 1]\n",
      " [0 1 3]]\n",
      "[[1 3 9]\n",
      " [8 3 5]\n",
      " [8 8 9]]\n",
      "[[116  38  32]\n",
      " [ 99  35  27]\n",
      " [142  78  32]] [[116  38  32]\n",
      " [ 99  35  27]\n",
      " [142  78  32]]\n",
      "[[ True  True  True]\n",
      " [ True  True  True]\n",
      " [ True  True  True]]\n"
     ]
    }
   ],
   "source": [
    "# Your code here \n",
    "A = np.random.randint(10, size=(3, 3))\n",
    "B = np.random.randint(10, size=(3, 3))\n",
    "\n",
    "LHS = (A.dot(B)).T\n",
    "RHS = (B.T).dot((A.T))\n",
    "\n",
    "print(A)\n",
    "print(B)\n",
    "print(LHS,RHS)\n",
    "print(LHS==RHS)\n"
   ]
  },
  {
   "cell_type": "markdown",
   "metadata": {},
   "source": [
    "## Summary \n",
    "\n",
    "So now we have seen enough matrix algebra to help us solve a problem of linear equations as we saw earlier in this section. We shall see how to do this next. "
   ]
  }
 ],
 "metadata": {
  "kernelspec": {
   "display_name": "learn-env",
   "language": "python",
   "name": "learn-env"
  },
  "language_info": {
   "codemirror_mode": {
    "name": "ipython",
    "version": 3
   },
   "file_extension": ".py",
   "mimetype": "text/x-python",
   "name": "python",
   "nbconvert_exporter": "python",
   "pygments_lexer": "ipython3",
   "version": "3.6.6"
  }
 },
 "nbformat": 4,
 "nbformat_minor": 2
}
